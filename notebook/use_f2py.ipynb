{
 "cells": [
  {
   "cell_type": "code",
   "execution_count": 1,
   "id": "3b5e89db",
   "metadata": {
    "ExecuteTime": {
     "end_time": "2021-09-22T09:30:42.192844Z",
     "start_time": "2021-09-22T09:30:42.105895Z"
    }
   },
   "outputs": [],
   "source": [
    "import numpy as np"
   ]
  },
  {
   "cell_type": "markdown",
   "id": "753bdaf1",
   "metadata": {},
   "source": [
    "# Sample in Numpy Docs\n",
    "\n",
    "https://numpy.org/doc/stable/f2py/python-usage.html#fortran-90-module-data"
   ]
  },
  {
   "cell_type": "code",
   "execution_count": 3,
   "id": "aa55a0cb",
   "metadata": {
    "ExecuteTime": {
     "end_time": "2021-09-22T09:33:23.782397Z",
     "start_time": "2021-09-22T09:33:23.778080Z"
    }
   },
   "outputs": [
    {
     "name": "stdout",
     "output_type": "stream",
     "text": [
      "Writing moddata.f90\n"
     ]
    }
   ],
   "source": [
    "%%file moddata.f90\n",
    "module mod\n",
    "  integer i\n",
    "  integer :: x(4)\n",
    "  real, dimension(2,3) :: a\n",
    "  real, allocatable, dimension(:,:) :: b \n",
    "contains\n",
    "  subroutine foo\n",
    "    integer k\n",
    "    print*, \"i=\",i\n",
    "    print*, \"x=[\",x,\"]\"\n",
    "    print*, \"a=[\"\n",
    "    print*, \"[\",a(1,1),\",\",a(1,2),\",\",a(1,3),\"]\"\n",
    "    print*, \"[\",a(2,1),\",\",a(2,2),\",\",a(2,3),\"]\"\n",
    "    print*, \"]\"\n",
    "    print*, \"Setting a(1,2)=a(1,2)+3\"\n",
    "    a(1,2) = a(1,2)+3\n",
    "  end subroutine foo\n",
    "end module mod"
   ]
  },
  {
   "cell_type": "code",
   "execution_count": 5,
   "id": "34439895",
   "metadata": {
    "ExecuteTime": {
     "end_time": "2021-09-22T09:35:20.279159Z",
     "start_time": "2021-09-22T09:35:18.673341Z"
    }
   },
   "outputs": [],
   "source": [
    "!f2py -c -m --quiet moddata moddata.f90"
   ]
  },
  {
   "cell_type": "code",
   "execution_count": 6,
   "id": "8710e3ec",
   "metadata": {
    "ExecuteTime": {
     "end_time": "2021-09-22T09:35:35.358169Z",
     "start_time": "2021-09-22T09:35:35.062469Z"
    }
   },
   "outputs": [],
   "source": [
    "import moddata"
   ]
  },
  {
   "cell_type": "code",
   "execution_count": 7,
   "id": "7062b34e",
   "metadata": {
    "ExecuteTime": {
     "end_time": "2021-09-22T09:35:44.336503Z",
     "start_time": "2021-09-22T09:35:44.333669Z"
    }
   },
   "outputs": [
    {
     "name": "stdout",
     "output_type": "stream",
     "text": [
      "i : 'i'-scalar\n",
      "x : 'i'-array(4)\n",
      "a : 'f'-array(2,3)\n",
      "b : 'f'-array(-1,-1), not allocated\u0000\n",
      "foo()\n",
      "\n",
      "Wrapper for ``foo``.\n",
      "\n",
      "\n"
     ]
    }
   ],
   "source": [
    "print(moddata.mod.__doc__)"
   ]
  },
  {
   "cell_type": "code",
   "execution_count": 11,
   "id": "12c688f7",
   "metadata": {
    "ExecuteTime": {
     "end_time": "2021-09-22T09:36:43.976219Z",
     "start_time": "2021-09-22T09:36:43.972703Z"
    }
   },
   "outputs": [
    {
     "data": {
      "text/plain": [
       "array(0, dtype=int32)"
      ]
     },
     "execution_count": 11,
     "metadata": {},
     "output_type": "execute_result"
    }
   ],
   "source": [
    "moddata.mod.i"
   ]
  },
  {
   "cell_type": "code",
   "execution_count": 10,
   "id": "6a6375c5",
   "metadata": {
    "ExecuteTime": {
     "end_time": "2021-09-22T09:36:32.558520Z",
     "start_time": "2021-09-22T09:36:32.549437Z"
    }
   },
   "outputs": [
    {
     "data": {
      "text/plain": [
       "array([0, 0, 0, 0], dtype=int32)"
      ]
     },
     "execution_count": 10,
     "metadata": {},
     "output_type": "execute_result"
    }
   ],
   "source": [
    "moddata.mod.x"
   ]
  },
  {
   "cell_type": "code",
   "execution_count": 12,
   "id": "f326c4de",
   "metadata": {
    "ExecuteTime": {
     "end_time": "2021-09-22T09:37:03.716949Z",
     "start_time": "2021-09-22T09:37:03.714581Z"
    }
   },
   "outputs": [
    {
     "data": {
      "text/plain": [
       "array([[0., 0., 0.],\n",
       "       [0., 0., 0.]], dtype=float32)"
      ]
     },
     "execution_count": 12,
     "metadata": {},
     "output_type": "execute_result"
    }
   ],
   "source": [
    "moddata.mod.a"
   ]
  },
  {
   "cell_type": "code",
   "execution_count": 13,
   "id": "8d6a5917",
   "metadata": {
    "ExecuteTime": {
     "end_time": "2021-09-22T09:37:03.716949Z",
     "start_time": "2021-09-22T09:37:03.714581Z"
    }
   },
   "outputs": [],
   "source": [
    "moddata.mod.b"
   ]
  },
  {
   "cell_type": "code",
   "execution_count": 15,
   "id": "2cbb405c",
   "metadata": {
    "ExecuteTime": {
     "end_time": "2021-09-22T09:37:27.317859Z",
     "start_time": "2021-09-22T09:37:27.313934Z"
    }
   },
   "outputs": [
    {
     "name": "stdout",
     "output_type": "stream",
     "text": [
      " i=           0\n",
      " x=[           0           0           0           0 ]\n",
      " a=[\n",
      " [   0.00000000     ,   0.00000000     ,   0.00000000     ]\n",
      " [   0.00000000     ,   0.00000000     ,   0.00000000     ]\n",
      " ]\n",
      " Setting a(1,2)=a(1,2)+3\n"
     ]
    }
   ],
   "source": [
    "moddata.mod.foo()"
   ]
  },
  {
   "cell_type": "code",
   "execution_count": 16,
   "id": "fb22cf42",
   "metadata": {
    "ExecuteTime": {
     "end_time": "2021-09-22T09:37:50.733957Z",
     "start_time": "2021-09-22T09:37:50.729306Z"
    }
   },
   "outputs": [
    {
     "data": {
      "text/plain": [
       "array([[0., 3., 0.],\n",
       "       [0., 0., 0.]], dtype=float32)"
      ]
     },
     "execution_count": 16,
     "metadata": {},
     "output_type": "execute_result"
    }
   ],
   "source": [
    "moddata.mod.a"
   ]
  },
  {
   "cell_type": "code",
   "execution_count": null,
   "id": "6a6cf291",
   "metadata": {},
   "outputs": [],
   "source": []
  },
  {
   "cell_type": "markdown",
   "id": "69b279a5",
   "metadata": {},
   "source": [
    "# Use magic command\n",
    "\n",
    "https://pnavaro.github.io/python-fortran/01.f2py.html"
   ]
  },
  {
   "cell_type": "code",
   "execution_count": 18,
   "id": "e74767ab",
   "metadata": {
    "ExecuteTime": {
     "end_time": "2021-09-22T09:49:04.999018Z",
     "start_time": "2021-09-22T09:49:04.862797Z"
    }
   },
   "outputs": [
    {
     "data": {
      "application/javascript": [
       "new Promise(function(resolve, reject) {\n",
       "\tvar script = document.createElement(\"script\");\n",
       "\tscript.onload = resolve;\n",
       "\tscript.onerror = reject;\n",
       "\tscript.src = \"https://raw.github.com/marijnh/CodeMirror/master/mode/fortran/fortran.js\";\n",
       "\tdocument.head.appendChild(script);\n",
       "}).then(() => {\n",
       "IPython.config.cell_magic_highlight['magic_fortran'] = {'reg':[/^%%fortran/]};\n",
       "});"
      ]
     },
     "metadata": {},
     "output_type": "display_data"
    }
   ],
   "source": [
    "%load_ext fortranmagic"
   ]
  },
  {
   "cell_type": "code",
   "execution_count": 19,
   "id": "f78c13ce",
   "metadata": {
    "ExecuteTime": {
     "end_time": "2021-09-22T09:49:22.062917Z",
     "start_time": "2021-09-22T09:49:20.257291Z"
    }
   },
   "outputs": [],
   "source": [
    "%%fortran \n",
    "subroutine euclidian_norm(a,c,n) \n",
    "  integer :: n \n",
    "  real(8),dimension(n),intent(in) :: a\n",
    "  !f2py optional , depend(a) :: n=len(a)\n",
    "  real(8),intent(out) :: c \n",
    "  real(8) :: sommec \n",
    "  integer :: i\n",
    "  sommec = 0 \n",
    "  do i=1,n\n",
    "    sommec=sommec+a( i )*a( i ) \n",
    "  end do\n",
    "  c = sqrt (sommec) \n",
    "end subroutine euclidian_norm"
   ]
  },
  {
   "cell_type": "code",
   "execution_count": 20,
   "id": "f2607bfc",
   "metadata": {
    "ExecuteTime": {
     "end_time": "2021-09-22T09:49:39.397746Z",
     "start_time": "2021-09-22T09:49:39.395045Z"
    }
   },
   "outputs": [],
   "source": [
    "a=[2,3,4]"
   ]
  },
  {
   "cell_type": "code",
   "execution_count": 21,
   "id": "68221d8f",
   "metadata": {
    "ExecuteTime": {
     "end_time": "2021-09-22T09:50:18.569391Z",
     "start_time": "2021-09-22T09:50:18.565023Z"
    }
   },
   "outputs": [
    {
     "data": {
      "text/plain": [
       "5.385164807134504"
      ]
     },
     "execution_count": 21,
     "metadata": {},
     "output_type": "execute_result"
    }
   ],
   "source": [
    "euclidian_norm(a)"
   ]
  },
  {
   "cell_type": "code",
   "execution_count": 23,
   "id": "ae1437b3",
   "metadata": {
    "ExecuteTime": {
     "end_time": "2021-09-22T09:50:57.412663Z",
     "start_time": "2021-09-22T09:50:57.410314Z"
    }
   },
   "outputs": [],
   "source": [
    "a_ar=np.arange(2,5)"
   ]
  },
  {
   "cell_type": "code",
   "execution_count": 24,
   "id": "6c76c11a",
   "metadata": {
    "ExecuteTime": {
     "end_time": "2021-09-22T09:51:02.114254Z",
     "start_time": "2021-09-22T09:51:02.110904Z"
    }
   },
   "outputs": [
    {
     "data": {
      "text/plain": [
       "5.385164807134504"
      ]
     },
     "execution_count": 24,
     "metadata": {},
     "output_type": "execute_result"
    }
   ],
   "source": [
    "euclidian_norm(a_ar)"
   ]
  },
  {
   "cell_type": "code",
   "execution_count": 26,
   "id": "d7eda955",
   "metadata": {
    "ExecuteTime": {
     "end_time": "2021-09-22T09:51:37.647874Z",
     "start_time": "2021-09-22T09:51:37.644368Z"
    }
   },
   "outputs": [
    {
     "name": "stdout",
     "output_type": "stream",
     "text": [
      "c = euclidian_norm(a,[n])\n",
      "\n",
      "Wrapper for ``euclidian_norm``.\n",
      "\n",
      "Parameters\n",
      "----------\n",
      "a : input rank-1 array('d') with bounds (n)\n",
      "\n",
      "Other Parameters\n",
      "----------------\n",
      "n : input int, optional\n",
      "    Default: len(a)\n",
      "\n",
      "Returns\n",
      "-------\n",
      "c : float\n",
      "\n"
     ]
    }
   ],
   "source": [
    "print(euclidian_norm.__doc__)"
   ]
  },
  {
   "cell_type": "code",
   "execution_count": null,
   "id": "de11fa25",
   "metadata": {},
   "outputs": [],
   "source": []
  }
 ],
 "metadata": {
  "kernelspec": {
   "display_name": "Python 3 (ipykernel)",
   "language": "python",
   "name": "python3"
  },
  "language_info": {
   "codemirror_mode": {
    "name": "ipython",
    "version": 3
   },
   "file_extension": ".py",
   "mimetype": "text/x-python",
   "name": "python",
   "nbconvert_exporter": "python",
   "pygments_lexer": "ipython3",
   "version": "3.9.1"
  }
 },
 "nbformat": 4,
 "nbformat_minor": 5
}
